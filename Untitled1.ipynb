{
 "cells": [
  {
   "cell_type": "code",
   "execution_count": 7,
   "id": "5700520b",
   "metadata": {},
   "outputs": [],
   "source": [
    "import cv2\n",
    "import pytesseract\n",
    "import pytesseract\n",
    "pytesseract.pytesseract.tesseract_cmd = r\"C:\\Users\\shing\\Downloads\\Programs\\tesseract-ocr-w64-setup-5.3.3.20231005.exe\"\n",
    "pytesseract.pytesseract.tesseract_cmd = r'C:\\Program Files\\Tesseract-OCR\\tesseract.exe'  # Replace with your Tesseract installation path\n"
   ]
  },
  {
   "cell_type": "code",
   "execution_count": 8,
   "id": "59df6ca4",
   "metadata": {},
   "outputs": [],
   "source": [
    "cap = cv2.VideoCapture('WhatsApp Video 2024-02-18 at 09.50.48_5ca9307c.mp4')"
   ]
  },
  {
   "cell_type": "code",
   "execution_count": 9,
   "id": "296528f9",
   "metadata": {},
   "outputs": [],
   "source": [
    "while True:\n",
    "    \n",
    "    ret, frame1 = cap.read()\n",
    "    gray = cv2.cvtColor(frame1, cv2.COLOR_BGR2GRAY)\n",
    "    x, y, w, h = 965,45,150,85\n",
    "    roi = frame1[y:y+h, x:x+w]\n",
    "    thresholded_frame = cv2.adaptiveThreshold(gray, 255, cv2.ADAPTIVE_THRESH_MEAN_C, cv2.THRESH_BINARY, 11, 2)\n",
    "    heart_rate = pytesseract.image_to_string(roi, config='--psm 6 outputbase digits -c tessedit_char_whitelist=0123456789')\n",
    "    ret, frame2 = cap.read()\n",
    "    gray = cv2.cvtColor(frame2, cv2.COLOR_BGR2GRAY)\n",
    "    x, y, w, h = 980,270,130,85\n",
    "    roi = frame2[y:y+h, x:x+w]\n",
    "    oxygen_saturation = pytesseract.image_to_string(roi, config='--psm 6 outputbase digits -c tessedit_char_whitelist=0123456789')\n",
    "    ret, frame3 = cap.read()\n",
    "    gray = cv2.cvtColor(frame3, cv2.COLOR_BGR2GRAY)    \n",
    "    try:\n",
    "        cv2.putText(frame3, f'Heart Rate: {heart_rate}', (500, 500), cv2.FONT_HERSHEY_SIMPLEX, 1, (0, 255, 0), 5)\n",
    "        cv2.putText(frame3, f'Oxygen Saturation: {oxygen_saturation}', (500,400), cv2.FONT_HERSHEY_SIMPLEX, 1, (0, 255, 0), 1)\n",
    "        cv2.imshow('Monitor Feed', frame3)\n",
    "    except Exception as e:\n",
    "        print(f\"OCR Error: {e}\")\n",
    "    key = cv2.waitKey(1) & 0xFF\n",
    "    if key == ord('q'):\n",
    "        break\n",
    "\n",
    "cap.release()\n",
    "cv2.destroyAllWindows()\n",
    "        "
   ]
  },
  {
   "cell_type": "code",
   "execution_count": null,
   "id": "427ade67",
   "metadata": {},
   "outputs": [],
   "source": []
  }
 ],
 "metadata": {
  "kernelspec": {
   "display_name": "Python 3 (ipykernel)",
   "language": "python",
   "name": "python3"
  },
  "language_info": {
   "codemirror_mode": {
    "name": "ipython",
    "version": 3
   },
   "file_extension": ".py",
   "mimetype": "text/x-python",
   "name": "python",
   "nbconvert_exporter": "python",
   "pygments_lexer": "ipython3",
   "version": "3.10.9"
  }
 },
 "nbformat": 4,
 "nbformat_minor": 5
}
